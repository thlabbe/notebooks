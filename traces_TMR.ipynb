{
 "cells": [
  {
   "cell_type": "markdown",
   "metadata": {
    "collapsed": true
   },
   "source": [
    "# Traces \n",
    "\n",
    "## Analyse du fichier TRACES.TXT\n",
    "\n",
    "Ce fichier est situé sur la machine \n",
    " \n",
    "C:\\_SERVLOC\\TRACES\\DEV\\TRACES.TXT"
   ]
  },
  {
   "cell_type": "markdown",
   "metadata": {
    "collapsed": true
   },
   "source": [
    "\n"
   ]
  },
  {
   "cell_type": "code",
   "execution_count": 2,
   "metadata": {
    "collapsed": true
   },
   "outputs": [
    {
     "name": "stdout",
     "output_type": "stream",
     "text": [
      "durée :0 days 01:44:01.420000\n"
     ]
    },
    {
     "data": {
      "text/plain": [
       "SelectionRangeSlider(index=(0, 0), options=(Timestamp('2019-02-21 14:59:48.820000'), Timestamp('2019-02-21 14:…"
      ]
     },
     "execution_count": 0,
     "metadata": {},
     "output_type": "execute_result"
    }
   ],
   "source": [
    "import pandas as pd\n",
    "import os\n",
    "import ipywidgets as widgets\n",
    "\n",
    "fichier = \"data/TRACE.txt\"\n",
    "fichier = \"data/TRACE_INTEG2-R.txt\"\n",
    "fichier_sans_ext = os.path.splitext(os.path.basename(fichier))[0]\n",
    "\n",
    "print(\"chargement de TRACES.txt\")\n",
    "%time traces = pd.read_csv(fichier,sep=\";\",header=None,names=[\"etat\",\"jcl\",\"classe\",\"time\"], parse_dates=[\"time\"])\n"
   ]
  },
  {
   "cell_type": "code",
   "execution_count": 3,
   "metadata": {
    "collapsed": true
   },
   "outputs": [
    {
     "name": "stdout",
     "output_type": "stream",
     "text": [
      "durée :0 days 01:44:01.420000\n"
     ]
    },
    {
     "data": {
      "text/plain": [
       "SelectionRangeSlider(index=(0, 0), options=(Timestamp('2019-02-21 14:59:48.820000'), Timestamp('2019-02-21 14:…"
      ]
     },
     "execution_count": 0,
     "metadata": {},
     "output_type": "execute_result"
    }
   ],
   "source": [
    "from IPython.display import display\n",
    "debut = traces.min()['time']\n",
    "fin = traces.max()['time']\n",
    "duration =  fin - debut\n",
    "print(f'durée :{duration}')\n",
    "\n",
    "w = widgets.SelectionRangeSlider(\n",
    "    options=traces['time']\n",
    "    index=(0,traces)\n",
    ")\n",
    "display(w)"
   ]
  },
  {
   "cell_type": "markdown",
   "metadata": {},
   "source": [
    "### Particularités du Fichier TRACES.TXT\n",
    "C'est un fichier CSV séparateur ';'\n",
    "\n",
    "Il est alimenté par les STEP *TRDEB* (DEBUT) et *TRFIN* (FIN) \n",
    "\n",
    "Si un JCL plante, alors le STEP *TRFIN* n'est pas executé, la ligne *FIN* correspondante n'existera pas\n",
    "\n",
    "Si un JOB est lancé plusieurs fois il y aura autant de ligne *DEBUT* que de *TRDEB* executé "
   ]
  },
  {
   "cell_type": "markdown",
   "metadata": {},
   "source": [
    "## Liste des jobs "
   ]
  },
  {
   "cell_type": "code",
   "execution_count": 29,
   "metadata": {},
   "outputs": [
    {
     "name": "stdout",
     "output_type": "stream",
     "text": [
      "Wall time: 4.98 ms\n"
     ]
    },
    {
     "name": "stdout",
     "output_type": "stream",
     "text": [
      "Wall time: 1.93 s\n"
     ]
    },
    {
     "data": {
      "text/plain": [
       "'file://....\\\\notebooks\\\\gantt_TRACE_INTEG2-R.html'"
      ]
     },
     "execution_count": 35,
     "metadata": {},
     "output_type": "execute_result"
    }
   ],
   "source": [
    "jobs = traces['jcl'].unique()\n",
    "jobs"
   ]
  },
  {
   "cell_type": "markdown",
   "metadata": {},
   "source": [
    "### Exemple de jcl avec 2 TRDEB et 1 TRFIN\n",
    "\n",
    "`traces` est un pandas.DataFrame\n",
    "\n",
    "Voici comment effectuer une requête simple :\n",
    "\n",
    "`data` contient les lignes de `traces` avec un critère de selection sur la colonne `'jcl'` "
   ]
  },
  {
   "cell_type": "code",
   "execution_count": 30,
   "metadata": {},
   "outputs": [
    {
     "name": "stdout",
     "output_type": "stream",
     "text": [
      "Wall time: 4.98 ms\n"
     ]
    },
    {
     "name": "stdout",
     "output_type": "stream",
     "text": [
      "Wall time: 1.93 s\n"
     ]
    },
    {
     "data": {
      "text/plain": [
       "'file://....\\\\notebooks\\\\gantt_TRACE_INTEG2-R.html'"
      ]
     },
     "execution_count": 35,
     "metadata": {},
     "output_type": "execute_result"
    }
   ],
   "source": [
    "x = 'ORD_JCUSP100'\n",
    "\n",
    "data = traces.loc[traces['jcl'] == x]\n",
    "data\n"
   ]
  },
  {
   "cell_type": "code",
   "execution_count": 31,
   "metadata": {},
   "outputs": [
    {
     "name": "stdout",
     "output_type": "stream",
     "text": [
      "Wall time: 4.98 ms\n"
     ]
    },
    {
     "name": "stdout",
     "output_type": "stream",
     "text": [
      "Wall time: 1.93 s\n"
     ]
    },
    {
     "data": {
      "text/plain": [
       "'file://....\\\\notebooks\\\\gantt_TRACE_INTEG2-R.html'"
      ]
     },
     "execution_count": 35,
     "metadata": {},
     "output_type": "execute_result"
    }
   ],
   "source": [
    "from plotly import __version__\n",
    "print (f'Version de plotly : {__version__}') "
   ]
  },
  {
   "cell_type": "markdown",
   "metadata": {},
   "source": [
    "## Génération du diagramme de Gantt \n"
   ]
  },
  {
   "cell_type": "code",
   "execution_count": 32,
   "metadata": {},
   "outputs": [
    {
     "name": "stdout",
     "output_type": "stream",
     "text": [
      "Wall time: 4.98 ms\n"
     ]
    },
    {
     "name": "stdout",
     "output_type": "stream",
     "text": [
      "Wall time: 1.93 s\n"
     ]
    },
    {
     "data": {
      "text/plain": [
       "'file://....\\\\notebooks\\\\gantt_TRACE_INTEG2-R.html'"
      ]
     },
     "execution_count": 35,
     "metadata": {},
     "output_type": "execute_result"
    }
   ],
   "source": [
    "debut = traces.min()['time']\n",
    "fin = traces.max()['time']\n",
    "duration =  fin - debut\n",
    "print(f'durée :{duration}')"
   ]
  },
  {
   "cell_type": "code",
   "execution_count": 33,
   "metadata": {},
   "outputs": [
    {
     "name": "stdout",
     "output_type": "stream",
     "text": [
      "Wall time: 4.98 ms\n"
     ]
    },
    {
     "name": "stdout",
     "output_type": "stream",
     "text": [
      "Wall time: 1.93 s\n"
     ]
    },
    {
     "data": {
      "text/plain": [
       "'file://C:\\\\Users\\\\tlabbe\\\\PycharmProjects\\\\notebooks\\\\gantt_TRACE_INTEG2-R.html'"
      ]
     },
     "execution_count": 35,
     "metadata": {},
     "output_type": "execute_result"
    }
   ],
   "source": [
    "\n",
    "def jcl_as_dict(df, name) :\n",
    "    '''\n",
    "    recherche dans la DataFrame df les lignes correspondant au JCL nommé 'name'\n",
    "    retourne un dictionaire avec le nom, la classe, les timestamps de début et de fin\n",
    "    '''\n",
    "    data = df.loc[df['jcl'] == name]\n",
    "    start = data.min()['time']\n",
    "    finish = data.max()['time']\n",
    "    duration = finish-start\n",
    "    return dict({'Task':name, 'classe': df.loc[data.index[0],'classe'], 'Start':start, 'Finish': finish, 'Duration':duration })\n",
    "\n",
    "def gantt(traces, jobs):\n",
    "    gantt_data = []\n",
    "    for job in jobs: \n",
    "        infos = jcl_as_dict(traces, job)\n",
    "        gantt_data.append(infos)\n",
    "    return gantt_data\n"
   ]
  },
  {
   "cell_type": "markdown",
   "metadata": {},
   "source": [
    "\n",
    "Consolider les données de `traces` dans `gantt_data`, triées sur la `classe`\n"
   ]
  },
  {
   "cell_type": "code",
   "execution_count": 34,
   "metadata": {},
   "outputs": [
    {
     "name": "stdout",
     "output_type": "stream",
     "text": [
      "Wall time: 4.98 ms\n"
     ]
    },
    {
     "name": "stdout",
     "output_type": "stream",
     "text": [
      "Wall time: 1.93 s\n"
     ]
    },
    {
     "data": {
      "text/plain": [
       "'file://....\\\\notebooks\\\\gantt_TRACE_INTEG2-R.html'"
      ]
     },
     "execution_count": 35,
     "metadata": {},
     "output_type": "execute_result"
    }
   ],
   "source": [
    "\n",
    "%time gantt_data = sorted(gantt(traces,jobs), key=lambda k: k['classe'])\n",
    "   \n"
   ]
  },
  {
   "cell_type": "markdown",
   "metadata": {},
   "source": [
    "Dessiner le diagramme de Gantt"
   ]
  },
  {
   "cell_type": "code",
   "execution_count": 35,
   "metadata": {},
   "outputs": [
    {
     "name": "stdout",
     "output_type": "stream",
     "text": [
      "Wall time: 4.98 ms\n"
     ]
    },
    {
     "name": "stdout",
     "output_type": "stream",
     "text": [
      "Wall time: 1.93 s\n"
     ]
    },
    {
     "data": {
      "text/plain": [
       "'file://....\\\\notebooks\\\\gantt_TRACE_INTEG2-R.html'"
      ]
     },
     "execution_count": 35,
     "metadata": {},
     "output_type": "execute_result"
    }
   ],
   "source": [
    "\n",
    "import plotly.offline  as py\n",
    "import plotly.figure_factory as ff\n",
    "# help(ff.create_gantt)   \n",
    "\n",
    "\n",
    "%time fig = ff.create_gantt(gantt_data,index_col='classe',task_names=['classes'],group_tasks=True, title=f'duration : {duration}', showgrid_x=True, height=800, width=1200)\n",
    "\n",
    "\n",
    "%time py.plot(fig, filename=f'gantt_{fichier_sans_ext}.html')\n"
   ]
  },
  {
   "cell_type": "markdown",
   "metadata": {},
   "source": [
    "### Liste des classes et nombre de jobs lancés par classe :\n"
   ]
  },
  {
   "cell_type": "code",
   "execution_count": 36,
   "metadata": {},
   "outputs": [
    {
     "data": {
      "text/plain": [
       "'file://....\\\\notebooks\\\\classes_repartition_TRACE_INTEG2-R.html'"
      ]
     },
     "execution_count": 36,
     "metadata": {},
     "output_type": "execute_result"
    }
   ],
   "source": [
    "\n",
    "\n",
    "liste = pd.DataFrame(data=gantt_data)\n",
    "\n",
    "s = liste['classe'].value_counts()\n",
    "\n",
    "x_axis = s.index.values\n",
    "y_axis = s.values\n",
    "\n",
    "import plotly.graph_objs as go\n",
    "data = [go.Bar(x=x_axis.tolist(), y=y_axis.tolist())]\n",
    "py.plot(data,filename=f'classes_repartition_{fichier_sans_ext}.html')    "
   ]
  },
  {
   "cell_type": "markdown",
   "metadata": {},
   "source": [
    "### Top 10 des Jobs les plus longs\n"
   ]
  },
  {
   "cell_type": "code",
   "execution_count": 37,
   "metadata": {},
   "outputs": [
    {
     "data": {
      "text/plain": [
       "'file://....\\\\notebooks\\\\top_10_TRACE_INTEG2-R.html'"
      ]
     },
     "execution_count": 37,
     "metadata": {},
     "output_type": "execute_result"
    }
   ],
   "source": [
    "# tri des job sur la durée décroissante\n",
    "\n",
    "\n",
    "gantt_data = sorted(gantt(traces,jobs), key=lambda k: k['Duration'], reverse=True)\n",
    "\n",
    "#recupperation des dix plus grandes valeurs\n",
    "s=gantt_data[:10]\n",
    "\n",
    "x = list(map(lambda d: {'jcl':d['Task'], 'Duration':d['Duration'] }, s))\n",
    "\n",
    "tasks = list(map(lambda d:d['jcl'], x))\n",
    "durations = list(map(lambda d:str(d['Duration']) , x))\n",
    "\n",
    "#afficher une table des résultats\n",
    "data = [go.Table(\n",
    "    header=dict(values=['task','duration'],\n",
    "                line = dict(color='#7D7F80'),\n",
    "                fill = dict(color='#a1c3d1'),),\n",
    "    cells=dict(values=[tasks,durations],\n",
    "               line = dict(color='#7D7F80'),\n",
    "               fill = dict(color='#EDFAFF'),\n",
    "               align=['center','center']))\n",
    "    ]\n",
    "py.plot(data,filename=f'top_10_{fichier_sans_ext}.html')    \n"
   ]
  },
  {
   "cell_type": "code",
   "execution_count": 38,
   "metadata": {},
   "outputs": [],
   "source": [
    "import numpy as np\n",
    "df = pd.DataFrame(gantt_data)['Duration'] / np.timedelta64(1, 's')"
   ]
  },
  {
   "cell_type": "code",
   "execution_count": null,
   "metadata": {},
   "outputs": [],
   "source": [
    "\n",
    "\n"
   ]
  }
 ],
 "metadata": {
  "kernelspec": {
   "display_name": "Python 2",
   "language": "python",
   "name": "python2"
  },
  "language_info": {
   "codemirror_mode": {
    "name": "ipython",
    "version": 2
   },
   "file_extension": ".py",
   "mimetype": "text/x-python",
   "name": "python",
   "nbconvert_exporter": "python",
   "pygments_lexer": "ipython2",
   "version": "2.7.6"
  }
 },
 "nbformat": 4,
 "nbformat_minor": 0
}
